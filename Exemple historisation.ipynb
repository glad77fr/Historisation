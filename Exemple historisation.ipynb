{
 "cells": [
  {
   "cell_type": "code",
   "execution_count": 63,
   "metadata": {},
   "outputs": [],
   "source": [
    "import pandas as pd\n",
    "import sqlite3"
   ]
  },
  {
   "cell_type": "code",
   "execution_count": 64,
   "metadata": {},
   "outputs": [],
   "source": [
    "# Chargement des données\n",
    "data = pd.read_excel(r'Test hist.xlsx', sheet_name=\"Data\")\n",
    "fact = pd.read_excel(r'Test hist.xlsx', sheet_name=\"Fact\")"
   ]
  },
  {
   "cell_type": "code",
   "execution_count": 65,
   "metadata": {},
   "outputs": [],
   "source": [
    "#Création d'une base de donnée in memory\n",
    "conn = sqlite3.connect(':memory:')"
   ]
  },
  {
   "cell_type": "code",
   "execution_count": 66,
   "metadata": {},
   "outputs": [],
   "source": [
    "# Ajout des Dataframe dans la base de données\n",
    "data.to_sql('data', conn, index=False)\n",
    "fact.to_sql('fact', conn, index=False)"
   ]
  },
  {
   "cell_type": "code",
   "execution_count": 73,
   "metadata": {},
   "outputs": [],
   "source": [
    "# Création d'une requête sql\n",
    "req = \"select data.Fun_key, Beg, End, Date, Tech_key from Fact left join Data on data.Fun_key=fact.Fun_key and Date between Beg and End\""
   ]
  },
  {
   "cell_type": "code",
   "execution_count": 71,
   "metadata": {},
   "outputs": [],
   "source": [
    "# Exécution de la requête et stokage du résultat dans un DataFrame\n",
    "df = pd.read_sql_query(req, conn)"
   ]
  },
  {
   "cell_type": "code",
   "execution_count": 72,
   "metadata": {},
   "outputs": [
    {
     "name": "stdout",
     "output_type": "stream",
     "text": [
      "   Fun_key                  Beg                 Date  Tech_key\n",
      "0        1  2011-04-24 00:00:00  2016-04-13 00:00:00         2\n",
      "1        2  2011-04-24 00:00:00  2016-03-01 00:00:00         4\n"
     ]
    }
   ],
   "source": [
    "print(df)"
   ]
  }
 ],
 "metadata": {
  "kernelspec": {
   "display_name": "Python 3",
   "language": "python",
   "name": "python3"
  },
  "language_info": {
   "codemirror_mode": {
    "name": "ipython",
    "version": 3
   },
   "file_extension": ".py",
   "mimetype": "text/x-python",
   "name": "python",
   "nbconvert_exporter": "python",
   "pygments_lexer": "ipython3",
   "version": "3.7.4"
  }
 },
 "nbformat": 4,
 "nbformat_minor": 4
}
