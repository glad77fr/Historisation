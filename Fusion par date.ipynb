{
 "cells": [
  {
   "cell_type": "code",
   "execution_count": 63,
   "metadata": {},
   "outputs": [],
   "source": [
    "import pandas as pd\n",
    "import sqlite3"
   ]
  },
  {
   "cell_type": "code",
   "execution_count": 64,
   "metadata": {},
   "outputs": [],
   "source": [
    "# Chargement des données\n",
    "data = pd.read_excel(r'Test hist.xlsx', sheet_name=\"Data\")\n",
    "fact = pd.read_excel(r'Test hist.xlsx', sheet_name=\"Fact\")"
   ]
  },
  {
   "cell_type": "code",
   "execution_count": 65,
   "metadata": {},
   "outputs": [],
   "source": [
    "#Création d'une base de donnée in memory\n",
    "conn = sqlite3.connect(':memory:')"
   ]
  },
  {
   "cell_type": "code",
   "execution_count": 66,
   "metadata": {},
   "outputs": [],
   "source": [
    "# Ajout des Dataframe dans la base de données\n",
    "data.to_sql('data', conn, index=False)\n",
    "fact.to_sql('fact', conn, index=False)"
   ]
  },
  {
   "cell_type": "code",
   "execution_count": 73,
   "metadata": {},
   "outputs": [],
   "source": [
    "# Création d'une requête sql\n",
    "req = \"select data.Fun_key, Beg, End, Date, Tech_key from Fact left join Data on data.Fun_key=fact.Fun_key and Date between Beg and End\""
   ]
  },
  {
   "cell_type": "code",
   "execution_count": 71,
   "metadata": {},
   "outputs": [],
   "source": [
    "# Exécution de la requête et stokage du résultat dans un DataFrame\n",
    "df = pd.read_sql_query(req, conn)"
   ]
  },
  {
   "cell_type": "code",
   "execution_count": 72,
   "metadata": {},
   "outputs": [
    {
     "name": "stdout",
     "output_type": "stream",
     "text": [
      "   Fun_key                  Beg                 Date  Tech_key\n",
      "0        1  2011-04-24 00:00:00  2016-04-13 00:00:00         2\n",
      "1        2  2011-04-24 00:00:00  2016-03-01 00:00:00         4\n"
     ]
    }
   ],
   "source": [
    "print(df)"
   ]
  },
  {
   "cell_type": "code",
   "execution_count": 202,
   "metadata": {},
   "outputs": [],
   "source": [
    "def date_merge(source_table, target_table, source_functional_key, target_functional_key, source_date_key,  target_column_to_get, target_date_columns_name=[]):\n",
    "    # Fonction servant à récupérer une colonne à l'aide d'une clé fonctionnelle et d'un date between. Cette fonction complète une lacune de la bibliothèque Pandas\n",
    "    # Il est nécessaire d'importer la bibliothèque sqlite3\n",
    "    \n",
    "    # source table => Dataframe source qui va être alimenté\n",
    "    # target_table => Dataframe servant à alimenter le dataframe source\n",
    "    # source_functional_key => la clé fonctionnelle servant à créer la jointure\n",
    "    # target_functionnal_key=> la clé fonctionnelle cible servant à créer la jointure en dehors des dates\n",
    "    # source_date_key => la date provenant du DataFrame source servant à la condition in beetween\n",
    "    # target_column_to_get => la colonne à récupérer\n",
    "    # target_date_columns_name => le nom des colonnes à récupérer sans espace, remplacer les espace par \"_\", ex: toto titi, toto_titi / Ces colonnes doivent être des pandas datetimes\n",
    "    \n",
    "    conn = sqlite3.connect(':memory:')\n",
    "    source_table.to_sql('source', conn, index=False)\n",
    "    target_table.to_sql('target', conn, index=False)\n",
    "    \n",
    "    #Création de la requète\n",
    "    req = \"PRAGMA table_info(source);\"\n",
    "    col_source_prep = pd.read_sql_query(req, conn)\n",
    "    col_source_prep = list(col_source_prep[\"name\"])\n",
    "    col_source = []\n",
    "    \n",
    "    for val in col_source_prep :\n",
    "        col_source.append('source.' + str(val)) \n",
    "        \n",
    "    col_source = str(col_source)\n",
    "    col_source = col_source.replace(\"[\", \"\")\n",
    "    col_source = col_source.replace(\"]\", \"\")\n",
    "    col_source = col_source.replace(\"'\",\"\")\n",
    "\n",
    "    req = f'Select {col_source}, {target_column_to_get} from source left join target on source.{source_functional_key}=target.{target_functional_key} and source.{source_date_key} between {target_date_columns_name[0]} and {target_date_columns_name[1]}'\n",
    "    \n",
    "    df = pd.read_sql_query(req, conn)\n",
    "    \n",
    "    return df\n",
    "    \n",
    "    "
   ]
  },
  {
   "cell_type": "code",
   "execution_count": 203,
   "metadata": {},
   "outputs": [
    {
     "data": {
      "text/html": [
       "<div>\n",
       "<style scoped>\n",
       "    .dataframe tbody tr th:only-of-type {\n",
       "        vertical-align: middle;\n",
       "    }\n",
       "\n",
       "    .dataframe tbody tr th {\n",
       "        vertical-align: top;\n",
       "    }\n",
       "\n",
       "    .dataframe thead th {\n",
       "        text-align: right;\n",
       "    }\n",
       "</style>\n",
       "<table border=\"1\" class=\"dataframe\">\n",
       "  <thead>\n",
       "    <tr style=\"text-align: right;\">\n",
       "      <th></th>\n",
       "      <th>Fun_key</th>\n",
       "      <th>Date</th>\n",
       "      <th>Tech_key</th>\n",
       "    </tr>\n",
       "  </thead>\n",
       "  <tbody>\n",
       "    <tr>\n",
       "      <td>0</td>\n",
       "      <td>1</td>\n",
       "      <td>2016-04-13 00:00:00</td>\n",
       "      <td>2</td>\n",
       "    </tr>\n",
       "    <tr>\n",
       "      <td>1</td>\n",
       "      <td>2</td>\n",
       "      <td>2016-03-01 00:00:00</td>\n",
       "      <td>4</td>\n",
       "    </tr>\n",
       "  </tbody>\n",
       "</table>\n",
       "</div>"
      ],
      "text/plain": [
       "   Fun_key                 Date  Tech_key\n",
       "0        1  2016-04-13 00:00:00         2\n",
       "1        2  2016-03-01 00:00:00         4"
      ]
     },
     "execution_count": 203,
     "metadata": {},
     "output_type": "execute_result"
    }
   ],
   "source": [
    "date_merge(source_table=fact, target_table=data, source_functional_key='Fun_key',target_functional_key='Fun_key',\n",
    "           source_date_key='Date', target_date_columns_name= [\"Beg\",\"End\"], target_column_to_get=\"Tech_key\")"
   ]
  },
  {
   "cell_type": "code",
   "execution_count": null,
   "metadata": {},
   "outputs": [],
   "source": []
  }
 ],
 "metadata": {
  "kernelspec": {
   "display_name": "Python 3",
   "language": "python",
   "name": "python3"
  },
  "language_info": {
   "codemirror_mode": {
    "name": "ipython",
    "version": 3
   },
   "file_extension": ".py",
   "mimetype": "text/x-python",
   "name": "python",
   "nbconvert_exporter": "python",
   "pygments_lexer": "ipython3",
   "version": "3.7.4"
  }
 },
 "nbformat": 4,
 "nbformat_minor": 4
}
